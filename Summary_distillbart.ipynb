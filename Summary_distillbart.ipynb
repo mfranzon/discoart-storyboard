{
  "nbformat": 4,
  "nbformat_minor": 0,
  "metadata": {
    "colab": {
      "name": "Summary_distillbart.ipynb",
      "provenance": []
    },
    "kernelspec": {
      "name": "python3",
      "display_name": "Python 3"
    },
    "language_info": {
      "name": "python"
    }
  },
  "cells": [
    {
      "cell_type": "markdown",
      "source": [
        "# Minimal notebook for summarization task using NLP"
      ],
      "metadata": {
        "id": "2dqt1VOc8Lo7"
      }
    },
    {
      "cell_type": "code",
      "execution_count": null,
      "metadata": {
        "id": "4rtjap867YA7"
      },
      "outputs": [],
      "source": [
        "from transformers import pipeline\n",
        "from transformers import AutoTokenizer\n",
        "from transformers import AutoModelForSeq2SeqLM\n",
        "\n",
        "\n",
        "tokenizer = AutoTokenizer.from_pretrained(\"sshleifer/distilbart-cnn-12-6\")\n",
        "\n",
        "model = AutoModelForSeq2SeqLM.from_pretrained(\"sshleifer/distilbart-cnn-12-6\")\n",
        "\n",
        "summarizer = pipeline(\"summarization\", model=model, tokenizer=tokenizer)\n"
      ]
    },
    {
      "cell_type": "code",
      "source": [
        "TEXT = \"\"\n",
        " \n",
        "text = summarizer(TEXT, min_length=30, max_length=50)"
      ],
      "metadata": {
        "id": "_-iy1nnt8CGw"
      },
      "execution_count": null,
      "outputs": []
    }
  ]
}